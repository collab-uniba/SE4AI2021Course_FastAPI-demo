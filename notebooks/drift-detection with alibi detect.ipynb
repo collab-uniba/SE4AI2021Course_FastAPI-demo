{
 "cells": [
  {
   "attachments": {},
   "cell_type": "markdown",
   "metadata": {},
   "source": [
    "# Drift Detection using Alibi Detect"
   ]
  },
  {
   "attachments": {},
   "cell_type": "markdown",
   "metadata": {},
   "source": [
    "Import dependencies"
   ]
  },
  {
   "cell_type": "code",
   "execution_count": 1,
   "metadata": {},
   "outputs": [],
   "source": [
    "import pandas as pd\n",
    "from sklearn.datasets import load_iris\n",
    "import matplotlib.pyplot as plt\n",
    "%matplotlib inline"
   ]
  },
  {
   "cell_type": "markdown",
   "metadata": {},
   "source": [
    "Load the iris dataset"
   ]
  },
  {
   "cell_type": "code",
   "execution_count": null,
   "metadata": {},
   "outputs": [],
   "source": [
    "iris = load_iris()\n",
    "training_df = pd.DataFrame(iris.data, columns=iris.feature_names)\n",
    "training_df.shape[0]"
   ]
  },
  {
   "cell_type": "code",
   "execution_count": null,
   "metadata": {},
   "outputs": [],
   "source": [
    "training_df.head()"
   ]
  },
  {
   "attachments": {},
   "cell_type": "markdown",
   "metadata": {},
   "source": [
    "Let's say that we have collected some input data from the production deployment of our model..."
   ]
  },
  {
   "cell_type": "code",
   "execution_count": 4,
   "metadata": {},
   "outputs": [],
   "source": [
    "!python ../scripts/fake-production-data.py -n 150 -o fake-production-data.csv"
   ]
  },
  {
   "attachments": {},
   "cell_type": "markdown",
   "metadata": {},
   "source": [
    "Now we want to detect potential drifts, i.e., we want to check if the data is still coming from the same distribution as the data we used to train our model.\n",
    "\n",
    "First, we read in our production data."
   ]
  },
  {
   "cell_type": "code",
   "execution_count": null,
   "metadata": {},
   "outputs": [],
   "source": [
    "fake_production_df = pd.read_csv(\"fake-production-data.csv\", header=None)\n",
    "fake_production_df.columns = training_df.columns\n",
    "fake_production_df.shape[0]"
   ]
  },
  {
   "cell_type": "code",
   "execution_count": null,
   "metadata": {},
   "outputs": [],
   "source": [
    "fake_production_df.head()"
   ]
  },
  {
   "attachments": {},
   "cell_type": "markdown",
   "metadata": {},
   "source": [
    "Let's visualize the different distributions:"
   ]
  },
  {
   "cell_type": "code",
   "execution_count": null,
   "metadata": {},
   "outputs": [],
   "source": [
    "fig, axs = plt.subplots(2, 2, figsize=(10, 10))\n",
    "axs[0, 0].hist(training_df[\"sepal length (cm)\"], alpha=0.75, label=\"training\")\n",
    "axs[0, 0].hist(fake_production_df[\"sepal length (cm)\"], alpha=0.50, label=\"production\")\n",
    "axs[0, 0].set_title(\"sepal length (cm)\")\n",
    "axs[0, 0].legend()\n",
    "axs[0, 1].hist(training_df[\"sepal width (cm)\"], alpha=0.75, label=\"training\")\n",
    "axs[0, 1].hist(fake_production_df[\"sepal width (cm)\"], alpha=0.50, label=\"production\")\n",
    "axs[0, 1].set_title(\"sepal width (cm)\")\n",
    "axs[0, 1].legend()\n",
    "axs[1, 0].hist(training_df[\"petal length (cm)\"], alpha=0.75, label=\"training\")\n",
    "axs[1, 0].hist(fake_production_df[\"petal length (cm)\"], alpha=0.50, label=\"production\")\n",
    "axs[1, 0].set_title(\"petal length (cm)\")\n",
    "axs[1, 0].legend()\n",
    "axs[1, 1].hist(training_df[\"petal width (cm)\"], alpha=0.75, label=\"training\")\n",
    "axs[1, 1].hist(fake_production_df[\"petal width (cm)\"], alpha=0.50, label=\"production\")\n",
    "axs[1, 1].set_title(\"petal width (cm)\")\n",
    "axs[1, 1].legend()"
   ]
  },
  {
   "cell_type": "markdown",
   "metadata": {},
   "source": [
    "# Measuring drift for **univariate features**\n",
    "\n",
    "## Kolmogorov-Smirnov test (KS)"
   ]
  },
  {
   "cell_type": "markdown",
   "metadata": {},
   "source": [
    "Let's build a drift detector for a single feature (`sepal length (cm)`) using the Kolmogorov-Smirnov test with p-value set to 0.01."
   ]
  },
  {
   "cell_type": "code",
   "execution_count": null,
   "metadata": {},
   "outputs": [],
   "source": [
    "from alibi_detect.cd import KSDrift\n",
    "\n",
    "sepal_drift_detector = KSDrift(training_df[\"sepal length (cm)\"].to_numpy(), p_val=0.01)"
   ]
  },
  {
   "cell_type": "markdown",
   "metadata": {},
   "source": [
    "We can now use the drift detector to check if the production data is still coming from the same distribution as the training data."
   ]
  },
  {
   "cell_type": "code",
   "execution_count": null,
   "metadata": {},
   "outputs": [],
   "source": [
    "sepal_drift_detector.predict(fake_production_df[\"sepal length (cm)\"].to_numpy(), return_p_val=True, return_distance=True)"
   ]
  },
  {
   "cell_type": "markdown",
   "metadata": {},
   "source": [
    "As the p-value is lower than the threshold – i.e., 0.001 < 0.01 – we can reject the null hypothesis that the data comes from the same distribution as the training data. Therefore, we can conclude that there is a drift (`is_drift = 1`)."
   ]
  },
  {
   "attachments": {},
   "cell_type": "markdown",
   "metadata": {},
   "source": [
    "# Measuring drift for **multivariate features**\n",
    "\n",
    "## Kolmogorov-Smirnov test (KS)"
   ]
  },
  {
   "cell_type": "markdown",
   "metadata": {},
   "source": [
    "We can use the same type of drift detector for multivariate features. Let's build a drift detector for all the features from the Iris dataset using the Kolmogorov-Smirnov test with p-value set to 0.01."
   ]
  },
  {
   "cell_type": "code",
   "execution_count": 10,
   "metadata": {},
   "outputs": [],
   "source": [
    "drift_detector = KSDrift(training_df.to_numpy(), p_val=0.01)"
   ]
  },
  {
   "cell_type": "markdown",
   "metadata": {},
   "source": [
    "Now the detector can be applied to all the features from the production data."
   ]
  },
  {
   "cell_type": "code",
   "execution_count": null,
   "metadata": {},
   "outputs": [],
   "source": [
    "drift_detector.predict(fake_production_df.to_numpy(), return_p_val=True, return_distance=True)"
   ]
  },
  {
   "cell_type": "markdown",
   "metadata": {},
   "source": [
    "Also in this case we can clearly detect a drift."
   ]
  },
  {
   "attachments": {},
   "cell_type": "markdown",
   "metadata": {},
   "source": [
    "## Resources\n",
    "\n",
    "- [Made With ML > Monitoring Machine Learning Systems > Measuring Drift](https://madewithml.com/courses/mlops/monitoring/#measuring-drift)\n",
    "- [Alibi Detect Docs > Examples > Categorical and mixed type data drift detection on income prediction](https://docs.seldon.io/projects/alibi-detect/en/stable/examples/cd_chi2ks_adult.html)"
   ]
  }
 ],
 "metadata": {
  "kernelspec": {
   "display_name": "fastapi_demo",
   "language": "python",
   "name": "python3"
  },
  "language_info": {
   "codemirror_mode": {
    "name": "ipython",
    "version": 3
   },
   "file_extension": ".py",
   "mimetype": "text/x-python",
   "name": "python",
   "nbconvert_exporter": "python",
   "pygments_lexer": "ipython3",
   "version": "3.10.2"
  },
  "orig_nbformat": 4
 },
 "nbformat": 4,
 "nbformat_minor": 2
}
